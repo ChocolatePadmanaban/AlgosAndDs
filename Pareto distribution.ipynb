{
 "cells": [
  {
   "cell_type": "markdown",
   "metadata": {},
   "source": [
    "# I would try to Create a working Pareto Distribution"
   ]
  },
  {
   "cell_type": "markdown",
   "metadata": {},
   "source": [
    "             Lets say there are ten people a = ['Newton', 'Maxwell', 'Gauss', 'Pythogarus', 'Leibniz', 'Reimann','Taylor', 'Fibonnaci', 'Napier', 'Bernoulli']\n",
    "             they all start with 10 rupees each iteration wat will happen at nth iteration"
   ]
  },
  {
   "cell_type": "code",
   "execution_count": 97,
   "metadata": {},
   "outputs": [],
   "source": [
    "import random"
   ]
  },
  {
   "cell_type": "code",
   "execution_count": 98,
   "metadata": {},
   "outputs": [],
   "source": [
    "people = ['Newton', 'Maxwell', 'Gauss', 'Pythogarus', 'Leibniz', 'Reimann','Taylor', 'Fibonnaci', 'Napier', 'Bernoulli']"
   ]
  },
  {
   "cell_type": "code",
   "execution_count": 99,
   "metadata": {},
   "outputs": [
    {
     "name": "stdout",
     "output_type": "stream",
     "text": [
      "{'Newton': 10, 'Maxwell': 10, 'Gauss': 10, 'Pythogarus': 10, 'Leibniz': 10, 'Reimann': 10, 'Taylor': 10, 'Fibonnaci': 10, 'Napier': 10, 'Bernoulli': 10}\n"
     ]
    }
   ],
   "source": [
    "peoplewithmoney= {person:10  for person in people}\n",
    "print(peoplewithmoney)"
   ]
  },
  {
   "cell_type": "code",
   "execution_count": 106,
   "metadata": {},
   "outputs": [
    {
     "name": "stdout",
     "output_type": "stream",
     "text": [
      "{'Newton': 63, 'Reimann': 37}\n",
      "{'Newton': 100}\n"
     ]
    }
   ],
   "source": [
    "def Trade(Peoplewithmoney, therepeat=0):\n",
    "    \n",
    "    for i in range(len(Peoplewithmoney)-1):\n",
    "        people=list(Peoplewithmoney.keys())\n",
    "        person1=random.choice(people)\n",
    "        people.remove(person1)\n",
    "        person2=random.choice(people)\n",
    "        if Peoplewithmoney[person2]>0:\n",
    "            Peoplewithmoney[person1]+=1\n",
    "            Peoplewithmoney[person2]-=1\n",
    "        else:\n",
    "            del Peoplewithmoney[person2]\n",
    "            \n",
    "        \n",
    "    if therepeat>0:\n",
    "        return Trade(Peoplewithmoney, therepeat-1)\n",
    "    else:\n",
    "        return Peoplewithmoney\n",
    "        \n",
    "\n",
    "\n",
    "print(peoplewithmoney)\n",
    "print(Trade(peoplewithmoney, 1000))\n"
   ]
  },
  {
   "cell_type": "code",
   "execution_count": null,
   "metadata": {},
   "outputs": [],
   "source": []
  }
 ],
 "metadata": {
  "kernelspec": {
   "display_name": "Python 3",
   "language": "python",
   "name": "python3"
  },
  "language_info": {
   "codemirror_mode": {
    "name": "ipython",
    "version": 3
   },
   "file_extension": ".py",
   "mimetype": "text/x-python",
   "name": "python",
   "nbconvert_exporter": "python",
   "pygments_lexer": "ipython3",
   "version": "3.7.3"
  }
 },
 "nbformat": 4,
 "nbformat_minor": 2
}
