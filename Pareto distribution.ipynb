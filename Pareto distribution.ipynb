{
 "cells": [
  {
   "cell_type": "markdown",
   "metadata": {},
   "source": [
    "# I would try to Create a working Pareto Distribution"
   ]
  },
  {
   "cell_type": "markdown",
   "metadata": {},
   "source": [
    "             Lets say there are ten people a = ['Newton', 'Maxwell', 'Gauss', 'Pythogarus', 'Leibniz', 'Reimann','Taylor', 'Fibonnaci', 'Napier', 'Bernoulli']\n",
    "             they all start with 10 rupees each iteration wat will happen at nth iteration"
   ]
  },
  {
   "cell_type": "code",
   "execution_count": 81,
   "metadata": {},
   "outputs": [],
   "source": [
    "import random\n",
    "import matplotlib.pyplot as plt \n",
    "import matplotlib.animation as animation\n",
    "import matplotlib import style"
   ]
  },
  {
   "cell_type": "code",
   "execution_count": 76,
   "metadata": {},
   "outputs": [],
   "source": [
    "people = ['Newton', 'Maxwell', 'Gauss', 'Pythogarus', 'Leibniz', 'Reimann','Taylor', 'Fibonnaci', 'Napier', 'Bernoulli']"
   ]
  },
  {
   "cell_type": "code",
   "execution_count": 77,
   "metadata": {},
   "outputs": [
    {
     "name": "stdout",
     "output_type": "stream",
     "text": [
      "{'Newton': 10, 'Maxwell': 10, 'Gauss': 10, 'Pythogarus': 10, 'Leibniz': 10, 'Reimann': 10, 'Taylor': 10, 'Fibonnaci': 10, 'Napier': 10, 'Bernoulli': 10}\n"
     ]
    }
   ],
   "source": [
    "peoplewithmoney= {person:10  for person in people}\n",
    "print(peoplewithmoney)"
   ]
  },
  {
   "cell_type": "code",
   "execution_count": 78,
   "metadata": {},
   "outputs": [
    {
     "name": "stdout",
     "output_type": "stream",
     "text": [
      "Before iteration....................................\n",
      "{'Newton': 10, 'Maxwell': 10, 'Gauss': 10, 'Pythogarus': 10, 'Leibniz': 10, 'Reimann': 10, 'Taylor': 10, 'Fibonnaci': 10, 'Napier': 10, 'Bernoulli': 10}\n",
      "After iteration.....................................\n",
      "{'Fibonnaci': 100}\n"
     ]
    }
   ],
   "source": [
    "def Trade(Peoplewithmoney, therepeat=0):\n",
    "    for r in range(therepeat):\n",
    "        for i in range(len(Peoplewithmoney)-1):\n",
    "            people=list(Peoplewithmoney.keys())\n",
    "            person1=random.choice(people)\n",
    "            people.remove(person1)\n",
    "            person2=random.choice(people)\n",
    "            if Peoplewithmoney[person2]>0:\n",
    "                Peoplewithmoney[person1]+=1\n",
    "                Peoplewithmoney[person2]-=1\n",
    "            else:\n",
    "                del Peoplewithmoney[person2]\n",
    "    return Peoplewithmoney\n",
    "        \n",
    "        \n",
    "\n",
    "print(\"Before iteration....................................\")\n",
    "print(peoplewithmoney)\n",
    "print(\"After iteration.....................................\")\n",
    "print(Trade(peoplewithmoney, 3000))\n"
   ]
  },
  {
   "cell_type": "code",
   "execution_count": 79,
   "metadata": {},
   "outputs": [
    {
     "name": "stdout",
     "output_type": "stream",
     "text": [
      "Again if you give people 10 rupees see what happens and who wins\n",
      "{'Newton': 10, 'Maxwell': 10, 'Gauss': 10, 'Pythogarus': 10, 'Leibniz': 10, 'Reimann': 10, 'Taylor': 10, 'Fibonnaci': 110, 'Napier': 10, 'Bernoulli': 10}\n"
     ]
    }
   ],
   "source": [
    "print(\"Again if you give people 10 rupees see what happens and who wins\")\n",
    "peoplewithmoney1= {person:10  for person in people}\n",
    "for i in peoplewithmoney.keys():\n",
    "    peoplewithmoney1[i]+= peoplewithmoney[i]\n",
    "print(peoplewithmoney1)"
   ]
  },
  {
   "cell_type": "code",
   "execution_count": 80,
   "metadata": {},
   "outputs": [
    {
     "name": "stdout",
     "output_type": "stream",
     "text": [
      "The Guy who had more money always wins even if you give equal money\n",
      "{'Newton': 75, 'Fibonnaci': 125}\n"
     ]
    }
   ],
   "source": [
    "print(\"The Guy who had more money always wins even if you give equal money\")\n",
    "\n",
    "print(Trade(peoplewithmoney1, 3000))"
   ]
  },
  {
   "cell_type": "code",
   "execution_count": null,
   "metadata": {},
   "outputs": [],
   "source": [
    "style.use('fivethirtyeight')\n"
   ]
  }
 ],
 "metadata": {
  "kernelspec": {
   "display_name": "Python 3",
   "language": "python",
   "name": "python3"
  },
  "language_info": {
   "codemirror_mode": {
    "name": "ipython",
    "version": 3
   },
   "file_extension": ".py",
   "mimetype": "text/x-python",
   "name": "python",
   "nbconvert_exporter": "python",
   "pygments_lexer": "ipython3",
   "version": "3.7.3"
  }
 },
 "nbformat": 4,
 "nbformat_minor": 2
}
