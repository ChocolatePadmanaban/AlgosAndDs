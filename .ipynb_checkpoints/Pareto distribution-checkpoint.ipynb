{
 "cells": [
  {
   "cell_type": "markdown",
   "metadata": {},
   "source": [
    "# I would try to Create a working Pareto Distribution"
   ]
  },
  {
   "cell_type": "markdown",
   "metadata": {},
   "source": [
    "             Lets say there are ten people a = ['Newton', 'Maxwell', 'Gauss', 'Pythogarus', 'Leibniz', 'Reimann','Taylor', 'Fibonnaci', 'Napier', 'Bernoulli']\n",
    "             they all start with 10 rupees each iteration wat will happen at nth iteration"
   ]
  },
  {
   "cell_type": "code",
   "execution_count": 13,
   "metadata": {},
   "outputs": [],
   "source": [
    "import random"
   ]
  },
  {
   "cell_type": "code",
   "execution_count": 9,
   "metadata": {},
   "outputs": [],
   "source": [
    "people = ['Newton', 'Maxwell', 'Gauss', 'Pythogarus', 'Leibniz', 'Reimann','Taylor', 'Fibonnaci', 'Napier', 'Bernoulli']"
   ]
  },
  {
   "cell_type": "code",
   "execution_count": 10,
   "metadata": {},
   "outputs": [
    {
     "name": "stdout",
     "output_type": "stream",
     "text": [
      "{'Newton': 10, 'Maxwell': 10, 'Gauss': 10, 'Pythogarus': 10, 'Leibniz': 10, 'Reimann': 10, 'Taylor': 10, 'Fibonnaci': 10, 'Napier': 10, 'Bernoulli': 10}\n"
     ]
    }
   ],
   "source": [
    "peoplewithmoney= {person:10  for person in people}\n",
    "print(peoplewithmoney)"
   ]
  },
  {
   "cell_type": "code",
   "execution_count": 12,
   "metadata": {},
   "outputs": [
    {
     "name": "stdout",
     "output_type": "stream",
     "text": [
      "['Newton', 'Maxwell', 'Gauss', 'Pythogarus', 'Leibniz', 'Reimann', 'Taylor', 'Fibonnaci', 'Napier', 'Bernoulli']\n"
     ]
    }
   ],
   "source": [
    "def Trade(Peoplewithmoney, therepeat):\n",
    "    \n",
    "    for i in (len(Peoplewithmoney)-1):\n",
    "        people=list(Peoplewithmoney.keys())\n",
    "        person1=random.choice(people)\n",
    "        people.remove(person1)\n",
    "        person2=random.choice(people)\n",
    "        if Peoplewithmoney[person2]>0:\n",
    "            Peoplewithmoney[person1]+=1\n",
    "            Peoplewithmoney[person2]-=1\n",
    "        \n",
    "    return people\n",
    "\n",
    "print(Trade(peoplewithmoney))\n"
   ]
  },
  {
   "cell_type": "code",
   "execution_count": null,
   "metadata": {},
   "outputs": [],
   "source": []
  },
  {
   "cell_type": "code",
   "execution_count": 15,
   "metadata": {},
   "outputs": [
    {
     "data": {
      "image/png": "[encoded data removed]",
      "text/plain": [
       "<Figure size 432x288 with 1 Axes>"
      ]
     },
     "metadata": {
      "needs_background": "light"
     },
     "output_type": "display_data"
    },
    {
     "data": {
      "text/plain": [
       "<Figure size 432x288 with 0 Axes>"
      ]
     },
     "metadata": {},
     "output_type": "display_data"
    },
    {
     "data": {
      "text/plain": [
       "<Figure size 432x288 with 0 Axes>"
      ]
     },
     "metadata": {},
     "output_type": "display_data"
    },
    {
     "data": {
      "text/plain": [
       "<Figure size 432x288 with 0 Axes>"
      ]
     },
     "metadata": {},
     "output_type": "display_data"
    },
    {
     "data": {
      "text/plain": [
       "<Figure size 432x288 with 0 Axes>"
      ]
     },
     "metadata": {},
     "output_type": "display_data"
    },
    {
     "data": {
      "text/plain": [
       "<Figure size 432x288 with 0 Axes>"
      ]
     },
     "metadata": {},
     "output_type": "display_data"
    },
    {
     "data": {
      "text/plain": [
       "<Figure size 432x288 with 0 Axes>"
      ]
     },
     "metadata": {},
     "output_type": "display_data"
    },
    {
     "data": {
      "text/plain": [
       "<Figure size 432x288 with 0 Axes>"
      ]
     },
     "metadata": {},
     "output_type": "display_data"
    },
    {
     "data": {
      "text/plain": [
       "<Figure size 432x288 with 0 Axes>"
      ]
     },
     "metadata": {},
     "output_type": "display_data"
    },
    {
     "data": {
      "text/plain": [
       "<Figure size 432x288 with 0 Axes>"
      ]
     },
     "metadata": {},
     "output_type": "display_data"
    }
   ],
   "source": [
    "import matplotlib.pyplot as plt\n",
    "%import matplotlib.pyplot as plt\n",
    "# generate axes object\n",
    "ax = plt.axes()\n",
    "\n",
    "# set limits\n",
    "plt.xlim(0,10) \n",
    "plt.ylim(0,10)\n",
    "\n",
    "for i in range(10):        \n",
    "     # add something to axes    \n",
    "     ax.scatter([i], [i]) \n",
    "     ax.plot([i], [i+1], 'rx')\n",
    "\n",
    "     # draw the plot\n",
    "     plt.draw() \n",
    "     plt.pause(0.01) #is necessary for the plot to update for some reason\n",
    "\n",
    "     # start removing points if you don't want all shown\n",
    "     if i>2:\n",
    "         ax.lines[0].remove()\n",
    "         ax.collections[0].remove()\n",
    "# generate axes object\n",
    "ax = plt.axes()\n",
    "\n",
    "# set limits\n",
    "plt.xlim(0,10) \n",
    "plt.ylim(0,10)\n",
    "\n",
    "for i in range(10):        \n",
    "     # add something to axes    \n",
    "     ax.scatter([i], [i]) \n",
    "     ax.plot([i], [i+1], 'rx')\n",
    "\n",
    "     # draw the plot\n",
    "     plt.draw() \n",
    "     plt.pause(0.01) #is necessary for the plot to update for some reason\n",
    "\n",
    "     # start removing points if you don't want all shown\n",
    "     if i>2:\n",
    "         ax.lines[0].remove()\n",
    "         ax.collections[0].remove()"
   ]
  },
  {
   "cell_type": "code",
   "execution_count": null,
   "metadata": {},
   "outputs": [],
   "source": []
  }
 ],
 "metadata": {
  "kernelspec": {
   "display_name": "Python 3",
   "language": "python",
   "name": "python3"
  },
  "language_info": {
   "codemirror_mode": {
    "name": "ipython",
    "version": 3
   },
   "file_extension": ".py",
   "mimetype": "text/x-python",
   "name": "python",
   "nbconvert_exporter": "python",
   "pygments_lexer": "ipython3",
   "version": "3.7.3"
  }
 },
 "nbformat": 4,
 "nbformat_minor": 2
}
