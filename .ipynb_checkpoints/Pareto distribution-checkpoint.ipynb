{
 "cells": [
  {
   "cell_type": "markdown",
   "metadata": {},
   "source": [
    "# I would try to Create a working Pareto Distribution"
   ]
  },
  {
   "cell_type": "markdown",
   "metadata": {},
   "source": [
    "             Lets say there are ten people a = ['Newton', 'Maxwell', 'Gauss', 'Pythogarus', 'Leibniz', 'Reimann','Taylor', 'Fibonnaci', 'Napier', 'Bernoulli']\n",
    "             they all start with 10 rupees each iteration wat will happen at nth iteration"
   ]
  },
  {
   "cell_type": "code",
   "execution_count": 42,
   "metadata": {},
   "outputs": [],
   "source": [
    "import random"
   ]
  },
  {
   "cell_type": "code",
   "execution_count": 43,
   "metadata": {},
   "outputs": [],
   "source": [
    "people = ['Newton', 'Maxwell', 'Gauss', 'Pythogarus', 'Leibniz', 'Reimann','Taylor', 'Fibonnaci', 'Napier', 'Bernoulli']"
   ]
  },
  {
   "cell_type": "code",
   "execution_count": 44,
   "metadata": {},
   "outputs": [
    {
     "name": "stdout",
     "output_type": "stream",
     "text": [
      "{'Newton': 10, 'Maxwell': 10, 'Gauss': 10, 'Pythogarus': 10, 'Leibniz': 10, 'Reimann': 10, 'Taylor': 10, 'Fibonnaci': 10, 'Napier': 10, 'Bernoulli': 10}\n"
     ]
    }
   ],
   "source": [
    "peoplewithmoney= {person:10  for person in people}\n",
    "print(peoplewithmoney)"
   ]
  },
  {
   "cell_type": "code",
   "execution_count": 49,
   "metadata": {},
   "outputs": [
    {
     "name": "stdout",
     "output_type": "stream",
     "text": [
      "Before iteration....................................\n",
      "{'Gauss': 34, 'Leibniz': 21, 'Fibonnaci': 21, 'Napier': 24}\n",
      "After iteration.....................................\n",
      "None\n"
     ]
    }
   ],
   "source": [
    "def Trade(Peoplewithmoney, therepeat=0):\n",
    "    for r in range(therepeat):\n",
    "        for i in range(len(Peoplewithmoney)-1):\n",
    "            people=list(Peoplewithmoney.keys())\n",
    "            person1=random.choice(people)\n",
    "            people.remove(person1)\n",
    "            person2=random.choice(people)\n",
    "            if Peoplewithmoney[person2]>0:\n",
    "                Peoplewithmoney[person1]+=1\n",
    "                Peoplewithmoney[person2]-=1\n",
    "            else:\n",
    "                del Peoplewithmoney[person2]\n",
    "    return Peoplewithmoney\n",
    "        \n",
    "        \n",
    "\n",
    "print(\"Before iteration....................................\")\n",
    "print(peoplewithmoney)\n",
    "print(\"After iteration.....................................\")\n",
    "print(Trade(peoplewithmoney, 10000))\n"
   ]
  },
  {
   "cell_type": "code",
   "execution_count": 46,
   "metadata": {},
   "outputs": [
    {
     "name": "stdout",
     "output_type": "stream",
     "text": [
      "Again if you give people 10 rupees see what happens and who wins\n",
      "{'Newton': 10, 'Maxwell': 10, 'Gauss': 44, 'Pythogarus': 10, 'Leibniz': 31, 'Reimann': 10, 'Taylor': 10, 'Fibonnaci': 31, 'Napier': 34, 'Bernoulli': 10}\n"
     ]
    }
   ],
   "source": [
    "\n",
    "print(\"Again if you give people 10 rupees see what happens and who wins\")\n",
    "peoplewithmoney1= {person:10  for person in people}\n",
    "for i in peoplewithmoney.keys():\n",
    "    peoplewithmoney1[i]+= peoplewithmoney[i]\n",
    "print(peoplewithmoney1)"
   ]
  },
  {
   "cell_type": "code",
   "execution_count": 47,
   "metadata": {},
   "outputs": [
    {
     "name": "stdout",
     "output_type": "stream",
     "text": [
      "The Guy who had more money always wins even if you give equal money\n",
      "{'Leibniz': 35, 'Taylor': 85, 'Fibonnaci': 49, 'Napier': 31}\n"
     ]
    }
   ],
   "source": [
    "print(\"The Guys who had more money always wins even if you give equal money\")\n",
    "\n",
    "print(Trade(peoplewithmoney1, 1000))"
   ]
  },
  {
   "cell_type": "code",
   "execution_count": null,
   "metadata": {},
   "outputs": [],
   "source": []
  }
 ],
 "metadata": {
  "kernelspec": {
   "display_name": "Python 3",
   "language": "python",
   "name": "python3"
  },
  "language_info": {
   "codemirror_mode": {
    "name": "ipython",
    "version": 3
   },
   "file_extension": ".py",
   "mimetype": "text/x-python",
   "name": "python",
   "nbconvert_exporter": "python",
   "pygments_lexer": "ipython3",
   "version": "3.7.3"
  }
 },
 "nbformat": 4,
 "nbformat_minor": 2
}
