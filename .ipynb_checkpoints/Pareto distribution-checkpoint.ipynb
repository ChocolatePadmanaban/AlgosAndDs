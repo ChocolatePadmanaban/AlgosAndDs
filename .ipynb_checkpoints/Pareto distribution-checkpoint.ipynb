{
 "cells": [
  {
   "cell_type": "markdown",
   "metadata": {},
   "source": [
    "# I would try to Create a working Pareto Distribution"
   ]
  },
  {
   "cell_type": "markdown",
   "metadata": {},
   "source": [
    "             Lets say there are ten people a = ['Newton', 'Maxwell', 'Gauss', 'Pythogarus', 'Leibniz', 'Reimann','Taylor', 'Fibonnaci', 'Napier', 'Bernoulli']\n",
    "             they all start with 10 rupees each iteration wat will happen at nth iteration"
   ]
  },
  {
   "cell_type": "code",
   "execution_count": 15,
   "metadata": {},
   "outputs": [],
   "source": [
    "import random\n",
    "import matplotlib.pyplot as plt \n",
    "import matplotlib.animation as animation\n",
    "from matplotlib import style\n",
    "%matplotlib"
   ]
  },
  {
   "cell_type": "code",
   "execution_count": 3,
   "metadata": {},
   "outputs": [],
   "source": [
    "people = ['Newton', 'Maxwell', 'Gauss', 'Pythogarus', 'Leibniz', 'Reimann','Taylor', 'Fibonnaci', 'Napier', 'Bernoulli']"
   ]
  },
  {
   "cell_type": "code",
   "execution_count": 4,
   "metadata": {},
   "outputs": [
    {
     "name": "stdout",
     "output_type": "stream",
     "text": [
      "{'Newton': 10, 'Maxwell': 10, 'Gauss': 10, 'Pythogarus': 10, 'Leibniz': 10, 'Reimann': 10, 'Taylor': 10, 'Fibonnaci': 10, 'Napier': 10, 'Bernoulli': 10}\n"
     ]
    }
   ],
   "source": [
    "peoplewithmoney= {person:10  for person in people}\n",
    "print(peoplewithmoney)"
   ]
  },
  {
   "cell_type": "code",
   "execution_count": 5,
   "metadata": {},
   "outputs": [
    {
     "name": "stdout",
     "output_type": "stream",
     "text": [
      "Before iteration....................................\n",
      "{'Newton': 10, 'Maxwell': 10, 'Gauss': 10, 'Pythogarus': 10, 'Leibniz': 10, 'Reimann': 10, 'Taylor': 10, 'Fibonnaci': 10, 'Napier': 10, 'Bernoulli': 10}\n",
      "After iteration.....................................\n",
      "{'Leibniz': 100}\n"
     ]
    }
   ],
   "source": [
    "def Trade(Peoplewithmoney, therepeat=0):\n",
    "    for r in range(therepeat):\n",
    "        for i in range(len(Peoplewithmoney)-1):\n",
    "            people=list(Peoplewithmoney.keys())\n",
    "            person1=random.choice(people)\n",
    "            people.remove(person1)\n",
    "            person2=random.choice(people)\n",
    "            if Peoplewithmoney[person2]>0:\n",
    "                Peoplewithmoney[person1]+=1\n",
    "                Peoplewithmoney[person2]-=1\n",
    "            else:\n",
    "                del Peoplewithmoney[person2]\n",
    "    return Peoplewithmoney\n",
    "        \n",
    "        \n",
    "\n",
    "print(\"Before iteration....................................\")\n",
    "print(peoplewithmoney)\n",
    "print(\"After iteration.....................................\")\n",
    "print(Trade(peoplewithmoney, 3000))\n"
   ]
  },
  {
   "cell_type": "code",
   "execution_count": 6,
   "metadata": {},
   "outputs": [
    {
     "name": "stdout",
     "output_type": "stream",
     "text": [
      "Again if you give people 10 rupees see what happens and who wins\n",
      "{'Newton': 10, 'Maxwell': 10, 'Gauss': 10, 'Pythogarus': 10, 'Leibniz': 110, 'Reimann': 10, 'Taylor': 10, 'Fibonnaci': 10, 'Napier': 10, 'Bernoulli': 10}\n"
     ]
    }
   ],
   "source": [
    "print(\"Again if you give people 10 rupees see what happens and who wins\")\n",
    "peoplewithmoney1= {person:10  for person in people}\n",
    "for i in peoplewithmoney.keys():\n",
    "    peoplewithmoney1[i]+= peoplewithmoney[i]\n",
    "print(peoplewithmoney1)"
   ]
  },
  {
   "cell_type": "code",
   "execution_count": 7,
   "metadata": {},
   "outputs": [
    {
     "name": "stdout",
     "output_type": "stream",
     "text": [
      "The Guy who had more money always wins even if you give equal money\n",
      "{'Newton': 76, 'Gauss': 40, 'Leibniz': 84}\n"
     ]
    }
   ],
   "source": [
    "print(\"The Guy who had more money always wins even if you give equal money\")\n",
    "\n",
    "print(Trade(peoplewithmoney1, 3000))"
   ]
  },
  {
   "cell_type": "code",
   "execution_count": 14,
   "metadata": {},
   "outputs": [
    {
     "data": {
      "image/png": "[encoded data removed]",
      "text/plain": [
       "<Figure size 432x288 with 1 Axes>"
      ]
     },
     "metadata": {},
     "output_type": "display_data"
    }
   ],
   "source": [
    "style.use('fivethirtyeight')\n",
    "\n",
    "fig = plt.figure()\n",
    "ax1 = fig.add_subplot(1,1,1)\n",
    "\n",
    "def animate(i):\n",
    "    graph_data = open('example.txt','r').read()\n",
    "    lines = graph_data.split('\\n')\n",
    "    xs = []\n",
    "    ys = []\n",
    "    for line in lines:\n",
    "        if len(line) > 1:\n",
    "            x, y = line.split(',')\n",
    "            xs.append(float(x))\n",
    "            ys.append(float(y))\n",
    "    ax1.clear()\n",
    "    ax1.plot(xs, ys)\n",
    "ani = animation.FuncAnimation(fig, animate, interval=1000000)\n",
    "plt.show()\n"
   ]
  },
  {
   "cell_type": "code",
   "execution_count": 11,
   "metadata": {},
   "outputs": [],
   "source": []
  },
  {
   "cell_type": "code",
   "execution_count": null,
   "metadata": {},
   "outputs": [],
   "source": []
  }
 ],
 "metadata": {
  "kernelspec": {
   "display_name": "Python 3",
   "language": "python",
   "name": "python3"
  },
  "language_info": {
   "codemirror_mode": {
    "name": "ipython",
    "version": 3
   },
   "file_extension": ".py",
   "mimetype": "text/x-python",
   "name": "python",
   "nbconvert_exporter": "python",
   "pygments_lexer": "ipython3",
   "version": "3.7.3"
  }
 },
 "nbformat": 4,
 "nbformat_minor": 2
}
